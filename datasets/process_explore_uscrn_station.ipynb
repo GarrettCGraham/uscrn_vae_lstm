{
 "cells": [
  {
   "cell_type": "markdown",
   "id": "14a2af6f-bb72-437e-8bc4-f9fc620896df",
   "metadata": {},
   "source": [
    "# Explore and process the single station dataset\n",
    "\n",
    "This explanation was written after I'd finished with the dang exploration/processing. TL;DR: This entire dataset was mis-flagged, so I took the latter half of the dataset (after index 17500). I did a simple absolute-value-greater-than-threshold test to see where the anomalies were in the normalized readings. These anomalies included both \"spikes\" and \"zeros\" and were recorded in the anomaly index of the final saved dataset.\n",
    "\n",
    "The first half of this notebook is me playing around with and exploring the data.\n",
    "\n",
    "The second half is me preprocessing it to fit the format that the VAE-LSTM learner accepts."
   ]
  },
  {
   "cell_type": "code",
   "execution_count": 1,
   "id": "6e7929ad-7052-40b8-9f67-cfbb3eb66506",
   "metadata": {},
   "outputs": [],
   "source": [
    "import os\n",
    "import csv\n",
    "import numpy as np\n",
    "import matplotlib.pylab as plt\n",
    "import pandas as pd\n",
    "from matplotlib.pyplot import plot, ion, show, savefig, cla, figure"
   ]
  },
  {
   "cell_type": "code",
   "execution_count": 2,
   "id": "f79bb0d2-f859-4bef-8c9b-61fcf67b21ac",
   "metadata": {},
   "outputs": [
    {
     "name": "stdout",
     "output_type": "stream",
     "text": [
      "Index(['WBAN', 'STATION_ID', 'UTC_START', 'TEMPERATURE', 'PRECIPITATION',\n",
      "       'VARIABLE', 'VOLUMETRIC', 'NOPRCPRESPONSE', 'FROZENRECOVERY', 'NOISE',\n",
      "       'FAILURE', 'STATIC', 'ERRATIC', 'DIURNALNOISE', 'TOOHIGH', 'SCALING',\n",
      "       'ZERO', 'SPIKE', 'stVarId', 'flgCount', 'anyFlag'],\n",
      "      dtype='object')\n"
     ]
    },
    {
     "data": {
      "text/html": [
       "<div>\n",
       "<style scoped>\n",
       "    .dataframe tbody tr th:only-of-type {\n",
       "        vertical-align: middle;\n",
       "    }\n",
       "\n",
       "    .dataframe tbody tr th {\n",
       "        vertical-align: top;\n",
       "    }\n",
       "\n",
       "    .dataframe thead th {\n",
       "        text-align: right;\n",
       "    }\n",
       "</style>\n",
       "<table border=\"1\" class=\"dataframe\">\n",
       "  <thead>\n",
       "    <tr style=\"text-align: right;\">\n",
       "      <th></th>\n",
       "      <th>WBAN</th>\n",
       "      <th>STATION_ID</th>\n",
       "      <th>UTC_START</th>\n",
       "      <th>TEMPERATURE</th>\n",
       "      <th>PRECIPITATION</th>\n",
       "      <th>VARIABLE</th>\n",
       "      <th>VOLUMETRIC</th>\n",
       "      <th>NOPRCPRESPONSE</th>\n",
       "      <th>FROZENRECOVERY</th>\n",
       "      <th>NOISE</th>\n",
       "      <th>...</th>\n",
       "      <th>STATIC</th>\n",
       "      <th>ERRATIC</th>\n",
       "      <th>DIURNALNOISE</th>\n",
       "      <th>TOOHIGH</th>\n",
       "      <th>SCALING</th>\n",
       "      <th>ZERO</th>\n",
       "      <th>SPIKE</th>\n",
       "      <th>stVarId</th>\n",
       "      <th>flgCount</th>\n",
       "      <th>anyFlag</th>\n",
       "    </tr>\n",
       "  </thead>\n",
       "  <tbody>\n",
       "    <tr>\n",
       "      <th>0</th>\n",
       "      <td>63858</td>\n",
       "      <td>1122</td>\n",
       "      <td>2017-11-08 00:00:00</td>\n",
       "      <td>20.979</td>\n",
       "      <td>0.0</td>\n",
       "      <td>sw2010</td>\n",
       "      <td>0.469</td>\n",
       "      <td>0</td>\n",
       "      <td>0</td>\n",
       "      <td>0</td>\n",
       "      <td>...</td>\n",
       "      <td>0</td>\n",
       "      <td>0</td>\n",
       "      <td>0</td>\n",
       "      <td>0</td>\n",
       "      <td>0</td>\n",
       "      <td>0</td>\n",
       "      <td>0</td>\n",
       "      <td>1122sw2010</td>\n",
       "      <td>0</td>\n",
       "      <td>0</td>\n",
       "    </tr>\n",
       "    <tr>\n",
       "      <th>1</th>\n",
       "      <td>63858</td>\n",
       "      <td>1122</td>\n",
       "      <td>2017-11-08 01:00:00</td>\n",
       "      <td>21.090</td>\n",
       "      <td>0.0</td>\n",
       "      <td>sw2010</td>\n",
       "      <td>0.463</td>\n",
       "      <td>0</td>\n",
       "      <td>0</td>\n",
       "      <td>0</td>\n",
       "      <td>...</td>\n",
       "      <td>0</td>\n",
       "      <td>0</td>\n",
       "      <td>0</td>\n",
       "      <td>0</td>\n",
       "      <td>0</td>\n",
       "      <td>0</td>\n",
       "      <td>0</td>\n",
       "      <td>1122sw2010</td>\n",
       "      <td>0</td>\n",
       "      <td>0</td>\n",
       "    </tr>\n",
       "    <tr>\n",
       "      <th>2</th>\n",
       "      <td>63858</td>\n",
       "      <td>1122</td>\n",
       "      <td>2017-11-08 02:00:00</td>\n",
       "      <td>20.685</td>\n",
       "      <td>0.0</td>\n",
       "      <td>sw2010</td>\n",
       "      <td>0.460</td>\n",
       "      <td>0</td>\n",
       "      <td>0</td>\n",
       "      <td>0</td>\n",
       "      <td>...</td>\n",
       "      <td>0</td>\n",
       "      <td>0</td>\n",
       "      <td>0</td>\n",
       "      <td>0</td>\n",
       "      <td>0</td>\n",
       "      <td>0</td>\n",
       "      <td>0</td>\n",
       "      <td>1122sw2010</td>\n",
       "      <td>0</td>\n",
       "      <td>0</td>\n",
       "    </tr>\n",
       "    <tr>\n",
       "      <th>3</th>\n",
       "      <td>63858</td>\n",
       "      <td>1122</td>\n",
       "      <td>2017-11-08 03:00:00</td>\n",
       "      <td>20.612</td>\n",
       "      <td>0.0</td>\n",
       "      <td>sw2010</td>\n",
       "      <td>0.474</td>\n",
       "      <td>0</td>\n",
       "      <td>0</td>\n",
       "      <td>0</td>\n",
       "      <td>...</td>\n",
       "      <td>0</td>\n",
       "      <td>0</td>\n",
       "      <td>0</td>\n",
       "      <td>0</td>\n",
       "      <td>0</td>\n",
       "      <td>0</td>\n",
       "      <td>0</td>\n",
       "      <td>1122sw2010</td>\n",
       "      <td>0</td>\n",
       "      <td>0</td>\n",
       "    </tr>\n",
       "    <tr>\n",
       "      <th>4</th>\n",
       "      <td>63858</td>\n",
       "      <td>1122</td>\n",
       "      <td>2017-11-08 04:00:00</td>\n",
       "      <td>20.613</td>\n",
       "      <td>0.0</td>\n",
       "      <td>sw2010</td>\n",
       "      <td>0.468</td>\n",
       "      <td>0</td>\n",
       "      <td>0</td>\n",
       "      <td>0</td>\n",
       "      <td>...</td>\n",
       "      <td>0</td>\n",
       "      <td>0</td>\n",
       "      <td>0</td>\n",
       "      <td>0</td>\n",
       "      <td>0</td>\n",
       "      <td>0</td>\n",
       "      <td>0</td>\n",
       "      <td>1122sw2010</td>\n",
       "      <td>0</td>\n",
       "      <td>0</td>\n",
       "    </tr>\n",
       "  </tbody>\n",
       "</table>\n",
       "<p>5 rows × 21 columns</p>\n",
       "</div>"
      ],
      "text/plain": [
       "    WBAN  STATION_ID            UTC_START  TEMPERATURE  PRECIPITATION  \\\n",
       "0  63858        1122  2017-11-08 00:00:00       20.979            0.0   \n",
       "1  63858        1122  2017-11-08 01:00:00       21.090            0.0   \n",
       "2  63858        1122  2017-11-08 02:00:00       20.685            0.0   \n",
       "3  63858        1122  2017-11-08 03:00:00       20.612            0.0   \n",
       "4  63858        1122  2017-11-08 04:00:00       20.613            0.0   \n",
       "\n",
       "  VARIABLE  VOLUMETRIC  NOPRCPRESPONSE  FROZENRECOVERY  NOISE  ...  STATIC  \\\n",
       "0   sw2010       0.469               0               0      0  ...       0   \n",
       "1   sw2010       0.463               0               0      0  ...       0   \n",
       "2   sw2010       0.460               0               0      0  ...       0   \n",
       "3   sw2010       0.474               0               0      0  ...       0   \n",
       "4   sw2010       0.468               0               0      0  ...       0   \n",
       "\n",
       "   ERRATIC  DIURNALNOISE  TOOHIGH  SCALING  ZERO  SPIKE     stVarId flgCount  \\\n",
       "0        0             0        0        0     0      0  1122sw2010        0   \n",
       "1        0             0        0        0     0      0  1122sw2010        0   \n",
       "2        0             0        0        0     0      0  1122sw2010        0   \n",
       "3        0             0        0        0     0      0  1122sw2010        0   \n",
       "4        0             0        0        0     0      0  1122sw2010        0   \n",
       "\n",
       "   anyFlag  \n",
       "0        0  \n",
       "1        0  \n",
       "2        0  \n",
       "3        0  \n",
       "4        0  \n",
       "\n",
       "[5 rows x 21 columns]"
      ]
     },
     "execution_count": 2,
     "metadata": {},
     "output_type": "execute_result"
    }
   ],
   "source": [
    "# Load a single sensor into a pandas DataFrame object and preview its contents.\n",
    "ssdf = pd.read_csv(\"1122sw2010_tseries.csv\")\n",
    "print(ssdf.columns)\n",
    "ssdf.head()"
   ]
  },
  {
   "cell_type": "markdown",
   "id": "d21830e5-2217-44d6-a245-a5650f027e3c",
   "metadata": {},
   "source": [
    "## Initial checks"
   ]
  },
  {
   "cell_type": "code",
   "execution_count": 3,
   "id": "ca508257-ee96-4be2-a351-7864ae23cce7",
   "metadata": {},
   "outputs": [
    {
     "data": {
      "text/plain": [
       "array(['sw2010'], dtype=object)"
      ]
     },
     "execution_count": 3,
     "metadata": {},
     "output_type": "execute_result"
    }
   ],
   "source": [
    "# Check that this data all derives from a single sensor.\n",
    "ssdf.VARIABLE.unique()"
   ]
  },
  {
   "cell_type": "markdown",
   "id": "d16c6d7b-0070-4d93-a3b7-5c94fb8ed3c0",
   "metadata": {},
   "source": [
    "Confirmed that it derives from a single sensor."
   ]
  },
  {
   "cell_type": "code",
   "execution_count": 4,
   "id": "7f070b2b-428a-438f-a433-22f73124317e",
   "metadata": {},
   "outputs": [
    {
     "name": "stdout",
     "output_type": "stream",
     "text": [
      "[0 1]\n",
      "2613\n"
     ]
    }
   ],
   "source": [
    "# Find out how many flagged data points exist for this sensor.\n",
    "print(ssdf.anyFlag.unique())\n",
    "print(ssdf.anyFlag.sum())"
   ]
  },
  {
   "cell_type": "code",
   "execution_count": 5,
   "id": "672c418f-a83b-4141-9c0d-220322f52ffa",
   "metadata": {},
   "outputs": [
    {
     "name": "stdout",
     "output_type": "stream",
     "text": [
      "[0 1]\n"
     ]
    }
   ],
   "source": [
    "# Find how many locations exist with more than one flag.\n",
    "print(ssdf.flgCount.unique())"
   ]
  },
  {
   "cell_type": "code",
   "execution_count": 6,
   "id": "34bf61ad-3279-487d-b490-80ada64b7d54",
   "metadata": {},
   "outputs": [
    {
     "name": "stdout",
     "output_type": "stream",
     "text": [
      "NOISE: [0] 0\n",
      "FAILURE: [0] 0\n",
      "STATIC: [0] 0\n",
      "ERRATIC: [0 1] 66\n",
      "DIURNALNOISE: [0] 0\n",
      "TOOHIGH: [0] 0\n",
      "SCALING: [0] 0\n",
      "ZERO: [0 1] 5\n",
      "SPIKE: [0 1] 2542\n"
     ]
    }
   ],
   "source": [
    "# Count the number of different occurences for each anomaly type.\n",
    "for flag_name in [\n",
    "    \"NOISE\", \"FAILURE\", \"STATIC\", \n",
    "    \"ERRATIC\", \"DIURNALNOISE\", \"TOOHIGH\", \n",
    "    \"SCALING\", \"ZERO\", \"SPIKE\"]:\n",
    "    \n",
    "    print(f\"{flag_name}:\", ssdf[flag_name].unique(), ssdf[flag_name].sum())\n",
    "    "
   ]
  },
  {
   "cell_type": "code",
   "execution_count": 7,
   "id": "f03b846d-ac5b-45e5-8c06-f9003b2ef1b6",
   "metadata": {},
   "outputs": [
    {
     "name": "stdout",
     "output_type": "stream",
     "text": [
      "[16705 16706 16707 16708 16709 16710 16711 16712 16713 16714 16715 16716\n",
      " 16717 16718 16719 16720 16721 16722 16723 16724 16725 16726 16727 16728\n",
      " 16729 16730 16731 16732 16733 16734 16735 16736 16737 16738 16739 16740\n",
      " 16741 16742 16743 16744 16745 16746 16747 16748 16749 16750 16751 16752\n",
      " 16753 16754 16755 16756 16757 16758 16759 16760 16761 16762 16763 16764\n",
      " 16765 16766 16767 16768 16769 16770]\n",
      "[24861 24863 25147 25863 25866]\n",
      "[809 810 811 812 813 814 815 816 817 818 819 820 821 822 823 824 825 826\n",
      " 827 828 829 830 831 832 833 834 835 836 837 838 839 840 841 842 843 844\n",
      " 845 846 847 848 849 850 851 852 853 854 855 856 857 858]\n"
     ]
    }
   ],
   "source": [
    "# See at what indices the known anomalies occur.\n",
    "idx_anomaly = ssdf.anyFlag[ssdf.anyFlag == 1].index.values\n",
    "idx_spikes = ssdf.SPIKE[ssdf.SPIKE == 1].index.values\n",
    "idx_erratic = ssdf.ERRATIC[ssdf.ERRATIC == 1].index.values\n",
    "idx_zero = ssdf.ZERO[ssdf.ZERO == 1].index.values\n",
    "\n",
    "print(idx_erratic)\n",
    "\n",
    "print(idx_zero)\n",
    "\n",
    "print(idx_spikes[:50])"
   ]
  },
  {
   "cell_type": "markdown",
   "id": "c106bc54-e80f-4d06-a04a-badff6cb50ef",
   "metadata": {},
   "source": [
    "## Some data prep"
   ]
  },
  {
   "cell_type": "code",
   "execution_count": null,
   "id": "cc5ee5f6-7c51-4295-a95d-05e791a2dafe",
   "metadata": {},
   "outputs": [],
   "source": [
    "# all_columns = [\n",
    "#     'WBAN', 'STATION_ID', 'TEMPERATURE', 'PRECIPITATION', 'VARIABLE',\n",
    "#     'VOLUMETRIC', 'NOPRCPRESPONSE', 'FROZENRECOVERY', 'NOISE', 'FAILURE',\n",
    "#     'STATIC', 'ERRATIC', 'DIURNALNOISE', 'TOOHIGH', 'SCALING', 'ZERO',\n",
    "#     'SPIKE', 'stVarId', 'flgCount', 'anyFlag'\n",
    "# ]\n",
    "selected_columns = [\n",
    "    'TEMPERATURE', 'PRECIPITATION', 'VARIABLE',\n",
    "    'VOLUMETRIC', 'NOPRCPRESPONSE', 'FROZENRECOVERY', 'NOISE', 'FAILURE',\n",
    "    'STATIC', 'ERRATIC', 'DIURNALNOISE', 'TOOHIGH', 'SCALING', 'ZERO',\n",
    "    'SPIKE', 'stVarId', 'flgCount', 'anyFlag'\n",
    "]"
   ]
  },
  {
   "cell_type": "markdown",
   "id": "c9090c0e-e804-4561-9f5b-95cfdade9f49",
   "metadata": {},
   "source": [
    "# Normalize and plot single sensor reads"
   ]
  },
  {
   "cell_type": "code",
   "execution_count": 170,
   "id": "99f544ac-5873-4922-9b5a-e4242ee87746",
   "metadata": {
    "tags": []
   },
   "outputs": [],
   "source": [
    "# Define plotting vertical limits.\n",
    "y_scale = 10\n",
    "\n",
    "# idx_split = [0, 5200]\n",
    "# idx_split = [800, 1000]\n",
    "# idx_split = [17500, 33199]\n",
    "idx_split = [17500, 23900]\n",
    "\n",
    "t = [\n",
    "    i for i in range(len(ssdf.index.values))\n",
    "]\n",
    "\n",
    "idx_anom_split = [\n",
    "    aidx for aidx in idx_anomaly if (aidx>idx_split[0]) and (aidx<idx_split[1])\n",
    "]\n",
    "\n",
    "# plot the whole normalised sequence\n",
    "fig, axs = plt.subplots(1, 1, figsize=(18, 4), edgecolor='k')\n",
    "fig.subplots_adjust(hspace=.4, wspace=.4)\n",
    "# axs = axs.ravel()\n",
    "# for i in range(4):\n",
    "\n",
    "axs.plot(t[idx_split[0]:idx_split[1]], ssdf.VOLUMETRIC.values[idx_split[0]:idx_split[1]])\n",
    "\n",
    "# axs.plot(t, ssdf.VOLUMETRIC.values)\n",
    "\n",
    "for j in range(len(idx_anom_split)):\n",
    "    axs.plot(idx_anom_split[j]*np.ones(20), np.linspace(-y_scale,y_scale,20), 'r--')"
   ]
  },
  {
   "cell_type": "code",
   "execution_count": 171,
   "id": "5fd11216-2012-48a8-a445-e7adef6f21cc",
   "metadata": {},
   "outputs": [],
   "source": [
    "idx_split = [17500, 23900]\n",
    "\n",
    "readings = ssdf.VOLUMETRIC.values\n",
    "t = ssdf.index.values\n",
    "\n",
    "# split into training and test sets\n",
    "training = readings[idx_split[0]:idx_split[1]]\n",
    "t_train = t[idx_split[0]:idx_split[1]]\n"
   ]
  },
  {
   "cell_type": "code",
   "execution_count": 172,
   "id": "82a70546-ad0c-4167-aee5-38685c0a939b",
   "metadata": {},
   "outputs": [
    {
     "name": "stdout",
     "output_type": "stream",
     "text": [
      "\n",
      "Training set mean is 0.44379484375000006\n",
      "Training set std is 0.04079043934751237\n"
     ]
    }
   ],
   "source": [
    "# Normalise by training mean and std \n",
    "train_m = np.mean(training)\n",
    "train_std = np.std(training)\n",
    "print(\"\\nTraining set mean is {}\".format(train_m))\n",
    "print(\"Training set std is {}\".format(train_std))\n",
    "readings_normalised = (readings - train_m) / train_std"
   ]
  },
  {
   "cell_type": "code",
   "execution_count": 173,
   "id": "439225f8-a679-4dd0-ad95-90a7ecfb30ea",
   "metadata": {},
   "outputs": [
    {
     "data": {
      "image/png": "[encoded data removed]",
      "text/plain": [
       "<Figure size 1296x288 with 1 Axes>"
      ]
     },
     "metadata": {
      "needs_background": "light"
     },
     "output_type": "display_data"
    }
   ],
   "source": [
    "# plot the whole normalised sequence\n",
    "fig, axs = plt.subplots(1, 1, figsize=(18, 4), edgecolor='k')\n",
    "fig.subplots_adjust(hspace=.4, wspace=.4)\n",
    "# axs = axs.ravel()\n",
    "# for i in range(4):\n",
    "\n",
    "# axs.plot(t[idx_split[0]:idx_split[1]], readings_normalised[idx_split[0]:idx_split[1]])\n",
    "# axs.plot(t, readings_normalised)\n",
    "# axs.plot(t[idx_split[0]:], readings_normalised[idx_split[0]:])\n",
    "\n",
    "# idx_start, idx_stop = 23900, 26000\n",
    "# idx_start, idx_stop = 31000, 32000\n",
    "idx_start, idx_stop = 24850, 24870\n",
    "\n",
    "axs.plot(t[idx_start:idx_stop], readings_normalised[idx_start:idx_stop])\n",
    "\n",
    "# axs.plot(t, ssdf.VOLUMETRIC.values)\n",
    "\n",
    "for j in range(len(idx_anom_split)):\n",
    "    axs.plot(idx_anom_split[j]*np.ones(20), np.linspace(-y_scale,y_scale,20), 'r--')"
   ]
  },
  {
   "cell_type": "code",
   "execution_count": 166,
   "id": "ba07d123-66f4-4575-aa85-81459c57f148",
   "metadata": {},
   "outputs": [
    {
     "data": {
      "text/plain": [
       "array([24861, 24863, 25147, 25863, 25866])"
      ]
     },
     "execution_count": 166,
     "metadata": {},
     "output_type": "execute_result"
    }
   ],
   "source": [
    "idx_zero"
   ]
  },
  {
   "cell_type": "markdown",
   "id": "d774ce38-59d3-4457-99d1-0d7edf2dab9a",
   "metadata": {},
   "source": [
    "#### Find indices of unflagged spikes"
   ]
  },
  {
   "cell_type": "code",
   "execution_count": 100,
   "id": "fba02078-8115-4126-9407-1eef31638a35",
   "metadata": {},
   "outputs": [
    {
     "name": "stdout",
     "output_type": "stream",
     "text": [
      "23935\n",
      "24861\n",
      "24863\n",
      "25147\n",
      "25863\n",
      "25866\n",
      "31043\n",
      "31045\n",
      "31046\n",
      "31047\n",
      "31051\n",
      "31052\n",
      "31053\n",
      "31054\n",
      "31055\n",
      "31056\n",
      "31057\n",
      "31063\n",
      "31064\n",
      "31066\n",
      "31067\n",
      "31070\n",
      "31148\n",
      "31149\n",
      "31150\n",
      "31151\n",
      "31152\n",
      "31153\n",
      "31156\n",
      "31174\n",
      "32479\n"
     ]
    }
   ],
   "source": [
    "for idx, reading in zip(t[17500:], readings_normalised[17500:]):\n",
    "    if abs(reading) > 8:\n",
    "        print(idx)"
   ]
  },
  {
   "cell_type": "code",
   "execution_count": 115,
   "id": "c4e192fb-0023-4605-81e1-e3a4a0a96e98",
   "metadata": {},
   "outputs": [],
   "source": [
    "# old_anom_idx_list = [\n",
    "#     23935, 24861, 24863, 25147, 25863, \n",
    "#     25866, 31043, 31045, 31046, 31047, \n",
    "#     31051, 31052, 31053, 31054, 31055, \n",
    "#     31056, 31057, 31063, 31064, 31066, \n",
    "#     31067, 31070, 31148, 31149, 31150, \n",
    "#     31151, 31152, 31153, 31156, 31174, 32479\n",
    "# ]"
   ]
  },
  {
   "cell_type": "markdown",
   "id": "b65939cd-1cf8-4e5a-a8c7-2a5db77a189b",
   "metadata": {},
   "source": [
    "# Preprocess the single station dataset and save it for training"
   ]
  },
  {
   "cell_type": "code",
   "execution_count": 185,
   "id": "f294e8e5-df65-460d-aa1d-f3fc1bc0e915",
   "metadata": {},
   "outputs": [
    {
     "name": "stdout",
     "output_type": "stream",
     "text": [
      "\n",
      "Training set mean is 0.44379484375000006\n",
      "Training set std is 0.04079043934751237\n"
     ]
    },
    {
     "data": {
      "text/plain": [
       "<matplotlib.legend.Legend at 0x7fa79b1394d0>"
      ]
     },
     "execution_count": 185,
     "metadata": {},
     "output_type": "execute_result"
    },
    {
     "data": {
      "image/png": "[encoded data removed]",
      "text/plain": [
       "<Figure size 1296x288 with 1 Axes>"
      ]
     },
     "metadata": {
      "needs_background": "light"
     },
     "output_type": "display_data"
    }
   ],
   "source": [
    "save_file = False\n",
    "t_unit = \"hour\" \n",
    "dataset = \"single_station_1122\"\n",
    "\n",
    "ssdf = pd.read_csv(\"1122sw2010_tseries.csv\")\n",
    "\n",
    "idx_start = 17500\n",
    "idx_stop = ssdf.shape[0]\n",
    "\n",
    "ssdf = ssdf.iloc[idx_start:]\n",
    "ssdf = ssdf.reset_index()\n",
    "\n",
    "t = ssdf.index.values + 1\n",
    "readings = ssdf.VOLUMETRIC.values\n",
    "\n",
    "idx_train_start = 0\n",
    "idx_train_stop = 23900 - 17500\n",
    "\n",
    "idx_split = [idx_train_start, idx_train_stop]\n",
    "\n",
    "training = readings[idx_split[0]:idx_split[1]]\n",
    "t_train = t[idx_split[0]:idx_split[1]]\n",
    "\n",
    "# normalise by training mean and std \n",
    "train_m = np.mean(training)\n",
    "train_std = np.std(training)\n",
    "print(\"\\nTraining set mean is {}\".format(train_m))\n",
    "print(\"Training set std is {}\".format(train_std))\n",
    "readings_normalised = (readings - train_m) / train_std\n",
    "\n",
    "idx_anomaly = []\n",
    "for idx, reading in zip(t, readings_normalised):\n",
    "    if abs(reading) > 8:\n",
    "        idx_anomaly.append(idx-1)\n",
    "\n",
    "        \n",
    "# print(readings_normalised[idx_anom])\n",
    "\n",
    "training = readings_normalised[idx_split[0]:idx_split[1]]\n",
    "\n",
    "test = readings_normalised[idx_split[1]:]\n",
    "t_test = t[idx_split[1]:] - idx_split[1]\n",
    "idx_anomaly_test = np.asarray(idx_anomaly) - idx_split[1]\n",
    "\n",
    "if save_file:\n",
    "    save_dir = './NAB-known-anomaly/'\n",
    "    np.savez(\n",
    "        save_dir+dataset+'.npz', t=t, t_unit=t_unit,\n",
    "        readings=readings, idx_anomaly=idx_anomaly,\n",
    "        idx_split=idx_split, training=training,\n",
    "        test=test, train_m=train_m, train_std=train_std,\n",
    "        t_train=t_train, t_test=t_test,\n",
    "        idx_anomaly_test=idx_anomaly_test\n",
    "    )\n",
    "    print(\"\\nProcessed time series are saved at {}\".format(save_dir+dataset+'.npz'))\n",
    "\n",
    "y_scale = 10\n",
    "\n",
    "# plot the whole normalised sequence\n",
    "fig, axs = plt.subplots(1, 1, figsize=(18, 4), edgecolor='k')\n",
    "fig.subplots_adjust(hspace=.4, wspace=.4)\n",
    "# axs = axs.ravel()\n",
    "# for i in range(4):\n",
    "\n",
    "\n",
    "axs.plot(t, readings_normalised)\n",
    "if idx_split[0] == 0:\n",
    "    axs.plot(idx_split[1]*np.ones(20), np.linspace(-y_scale,y_scale,20), 'o--')\n",
    "else:\n",
    "    for i in range(2):\n",
    "        axs.plot(idx_split[i]*np.ones(20), np.linspace(-y_scale,y_scale,20), 'b--')\n",
    "\n",
    "        \n",
    "for j in range(len(idx_anomaly)):\n",
    "#     axs.plot(idx_anomaly[j]*np.ones(20), np.linspace(-y_scale,y_scale,20), 'r--')\n",
    "    axs.plot(idx_anomaly[j], 0, 'r.', markersize=15)\n",
    "\n",
    "\n",
    "#     axs.plot(data[:,1])\n",
    "axs.grid(True)\n",
    "axs.set_xlim(0, len(t))\n",
    "axs.set_ylim(-y_scale, y_scale)\n",
    "axs.set_xlabel(\"timestamp (every {})\".format(t_unit))\n",
    "axs.set_ylabel(\"normalised readings\")\n",
    "axs.set_title(\"{} dataset\\n(normalised by train mean {:.2f} and std {:.2f})\".format(dataset, train_m, train_std))\n",
    "axs.legend(('data', 'train test set split', 'anomalies'))"
   ]
  },
  {
   "cell_type": "code",
   "execution_count": null,
   "id": "a51437d9-31fb-4cb1-a3c5-c3e443ce60ec",
   "metadata": {},
   "outputs": [],
   "source": []
  }
 ],
 "metadata": {
  "kernelspec": {
   "display_name": "Python 3 (ipykernel)",
   "language": "python",
   "name": "python3"
  },
  "language_info": {
   "codemirror_mode": {
    "name": "ipython",
    "version": 3
   },
   "file_extension": ".py",
   "mimetype": "text/x-python",
   "name": "python",
   "nbconvert_exporter": "python",
   "pygments_lexer": "ipython3",
   "version": "3.7.11"
  }
 },
 "nbformat": 4,
 "nbformat_minor": 5
}
