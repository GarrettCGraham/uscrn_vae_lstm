{
 "cells": [
  {
   "cell_type": "code",
   "execution_count": 2,
   "metadata": {},
   "outputs": [],
   "source": [
    "import os\n",
    "import csv\n",
    "import numpy as np\n",
    "import matplotlib.pylab as plt\n",
    "from matplotlib.pyplot import plot, ion, show, savefig, cla, figure"
   ]
  },
  {
   "cell_type": "markdown",
   "metadata": {},
   "source": [
    "## Helper functions to load and process original csv files"
   ]
  },
  {
   "cell_type": "code",
   "execution_count": 25,
   "metadata": {},
   "outputs": [],
   "source": [
    "# this function load one .cvs (a sequence)\n",
    "def load_data(dataset, csv_folder='./NAB-known-anomaly/csv-files/'):\n",
    "    if dataset == 'ambient_temp':\n",
    "        data_file = os.path.join(csv_folder, 'ambient_temperature_system_failure.csv')\n",
    "        anomalies = ['2013-12-22 20:00:00', '2014-04-13 09:00:00']\n",
    "        t_unit = 'hour'\n",
    "    elif dataset == 'cpu_utilization':\n",
    "        data_file = os.path.join(csv_folder, 'cpu_utilization_asg_misconfiguration.csv')\n",
    "        anomalies = ['2014-07-12 02:04:00', '2014-07-14 21:44:00']\n",
    "        t_unit = '5 min'\n",
    "    elif dataset == 'ec2_request':\n",
    "        data_file = os.path.join(csv_folder, 'ec2_request_latency_system_failure.csv')\n",
    "        anomalies = ['2014-03-14 09:06:00', '2014-03-18 22:41:00', '2014-03-21 03:01:00']\n",
    "        t_unit = '5 min'\n",
    "    elif dataset == 'machine_temp':\n",
    "        data_file = os.path.join(csv_folder, 'machine_temperature_system_failure.csv')\n",
    "        anomalies = ['2013-12-11 06:00:00', '2013-12-16 17:25:00', '2014-01-28 13:55:00', '2014-02-08 14:30:00']\n",
    "        t_unit = '5 min'\n",
    "    elif dataset == 'rogue_agent_key_hold':\n",
    "        data_file = os.path.join(csv_folder, 'rogue_agent_key_hold.csv')\n",
    "        anomalies = ['2014-07-15 08:30:00', '2014-07-17 09:50:00']\n",
    "        t_unit = '5 min'\n",
    "    elif dataset == 'rogue_agent_key_updown':\n",
    "        data_file = os.path.join(csv_folder, 'rogue_agent_key_updown.csv')\n",
    "        anomalies = ['2014-07-15 04:00:00', '2014-07-17 08:50:00']\n",
    "        t_unit = '5 min'\n",
    "    elif dataset == 'nyc_taxi':\n",
    "        data_file = os.path.join(csv_folder, 'nyc_taxi.csv')\n",
    "        anomalies = ['2014-11-01 19:00:00', '2014-11-27 15:30:00', '2014-12-25 15:00:00', '2015-01-01 01:00:00', \n",
    "                     '2015-01-27 00:00:00']\n",
    "        t_unit = '30 min'\n",
    "    \n",
    "    t = []\n",
    "    readings = []\n",
    "    idx_anomaly = []\n",
    "    i = 0\n",
    "    with open(data_file) as csvfile:\n",
    "        readCSV = csv.reader(csvfile, delimiter=',')\n",
    "        print(\"\\n--> Anomalies occur at:\")\n",
    "        for row in readCSV:\n",
    "            if i > 0:\n",
    "                t.append(i)\n",
    "                readings.append(float(row[1]))\n",
    "                for j in range(len(anomalies)):\n",
    "                    if row[0] == anomalies[j]:\n",
    "                        idx_anomaly.append(i)\n",
    "                        print(\"  timestamp #{}: {}\".format(j, row[0]))\n",
    "            i = i + 1\n",
    "    t = np.asarray(t)\n",
    "    readings = np.asarray(readings)\n",
    "    print(\"\\nOriginal csv file contains {} timestamps.\".format(t.shape))\n",
    "    print(\"Processed time series contain {} readings.\".format(readings.shape))\n",
    "    print(\"Anomaly indices are {}\".format(idx_anomaly))\n",
    "    \n",
    "    return t, t_unit, readings, idx_anomaly"
   ]
  },
  {
   "cell_type": "code",
   "execution_count": 3,
   "metadata": {},
   "outputs": [],
   "source": [
    "# This function plots a dataset with the train/test split and known anomalies\n",
    "# Relies on helper function load_data()\n",
    "\n",
    "def process_and_save_specified_dataset(dataset, idx_split, y_scale=5, save_file=False):\n",
    "    t, t_unit, readings, idx_anomaly = load_data(dataset)\n",
    "    \n",
    "    # split into training and test sets\n",
    "    training = readings[idx_split[0]:idx_split[1]]\n",
    "    t_train = t[idx_split[0]:idx_split[1]]\n",
    "    \n",
    "    # normalise by training mean and std \n",
    "    train_m = np.mean(training)\n",
    "    train_std = np.std(training)\n",
    "    print(\"\\nTraining set mean is {}\".format(train_m))\n",
    "    print(\"Training set std is {}\".format(train_std))\n",
    "    readings_normalised = (readings - train_m) / train_std\n",
    "    \n",
    "    training = readings_normalised[idx_split[0]:idx_split[1]]\n",
    "    if idx_split[0] == 0:\n",
    "        test = readings_normalised[idx_split[1]:]\n",
    "        t_test = t[idx_split[1]:] - idx_split[1]\n",
    "        idx_anomaly_test = np.asarray(idx_anomaly) - idx_split[1]\n",
    "    else:\n",
    "        test = [readings_normalised[:idx_split[0]], readings_normalised[idx_split[1]:]]\n",
    "        t_test = [t[:idx_split[0]], t[idx_split[1]:] - idx_split[1]]\n",
    "        idx_anomaly_split = np.squeeze(np.argwhere(np.asarray(idx_anomaly)>idx_split[0]))\n",
    "        idx_anomaly_test = [np.asarray(idx_anomaly[:idx_anomaly_split[0]]), \n",
    "                            np.asarray(idx_anomaly[idx_anomaly_split[0]:]) - idx_split[1]]\n",
    "    print(\"Anomaly indices in the test set are {}\".format(idx_anomaly_test))\n",
    "    \n",
    "    if save_file:\n",
    "        save_dir = './datasets/NAB-known-anomaly/'\n",
    "        np.savez(save_dir+dataset+'.npz', t=t, t_unit=t_unit, readings=readings, idx_anomaly=idx_anomaly,\n",
    "                    idx_split=idx_split, training=training, test=test, train_m=train_m, train_std=train_std,\n",
    "                    t_train=t_train, t_test=t_test, idx_anomaly_test=idx_anomaly_test)\n",
    "        print(\"\\nProcessed time series are saved at {}\".format(save_dir+dataset+'.npz'))\n",
    "    else:\n",
    "        print(\"\\nProcessed time series are not saved.\")\n",
    "    \n",
    "    # plot the whole normalised sequence\n",
    "    fig, axs = plt.subplots(1, 1, figsize=(18, 4), edgecolor='k')\n",
    "    fig.subplots_adjust(hspace=.4, wspace=.4)\n",
    "    # axs = axs.ravel()\n",
    "    # for i in range(4):\n",
    "    axs.plot(t, readings_normalised)\n",
    "    if idx_split[0] == 0:\n",
    "        axs.plot(idx_split[1]*np.ones(20), np.linspace(-y_scale,y_scale,20), 'b--')\n",
    "    else:\n",
    "        for i in range(2):\n",
    "            axs.plot(idx_split[i]*np.ones(20), np.linspace(-y_scale,y_scale,20), 'b--')\n",
    "    for j in range(len(idx_anomaly)):\n",
    "        axs.plot(idx_anomaly[j]*np.ones(20), np.linspace(-y_scale,y_scale,20), 'r--')\n",
    "    #     axs.plot(data[:,1])\n",
    "    axs.grid(True)\n",
    "    axs.set_xlim(0, len(t))\n",
    "    axs.set_ylim(-y_scale, y_scale)\n",
    "    axs.set_xlabel(\"timestamp (every {})\".format(t_unit))\n",
    "    axs.set_ylabel(\"normalised readings\")\n",
    "    axs.set_title(\"{} dataset\\n(normalised by train mean {:.2f} and std {:.2f})\".format(dataset, train_m, train_std))\n",
    "    axs.legend(('data', 'train test set split', 'anomalies'))\n",
    "    \n",
    "    return t, readings_normalised"
   ]
  },
  {
   "cell_type": "markdown",
   "metadata": {},
   "source": [
    "## Example on ambient temperature series"
   ]
  },
  {
   "cell_type": "code",
   "execution_count": 24,
   "metadata": {},
   "outputs": [
    {
     "data": {
      "text/plain": [
       "[<matplotlib.lines.Line2D at 0x7fcd6b1fcd50>]"
      ]
     },
     "execution_count": 24,
     "metadata": {},
     "output_type": "execute_result"
    },
    {
     "data": {
      "image/png": "[encoded data removed]",
      "text/plain": [
       "<Figure size 432x288 with 1 Axes>"
      ]
     },
     "metadata": {
      "needs_background": "light"
     },
     "output_type": "display_data"
    }
   ],
   "source": [
    "plt.plot(idx_split[1]*np.ones(20), np.linspace(-y_scale,y_scale,20))"
   ]
  },
  {
   "cell_type": "code",
   "execution_count": 27,
   "metadata": {},
   "outputs": [
    {
     "name": "stdout",
     "output_type": "stream",
     "text": [
      "\n",
      "--> Anomalies occur at:\n",
      "  timestamp #0: 2013-12-22 20:00:00\n",
      "  timestamp #1: 2014-04-13 09:00:00\n",
      "\n",
      "Original csv file contains (7267,) timestamps.\n",
      "Processed time series contain (7267,) readings.\n",
      "Anomaly indices are [3722, 6181]\n"
     ]
    },
    {
     "data": {
      "text/plain": [
       "(array([   1,    2,    3, ..., 7265, 7266, 7267]),\n",
       " 'hour',\n",
       " array([69.88083514, 71.22022706, 70.87780496, ..., 72.04656545,\n",
       "        71.82522648, 72.58408858]),\n",
       " [3722, 6181])"
      ]
     },
     "execution_count": 27,
     "metadata": {},
     "output_type": "execute_result"
    }
   ],
   "source": [
    "load_data(\"ambient_temp\")"
   ]
  },
  {
   "cell_type": "code",
   "execution_count": 4,
   "metadata": {},
   "outputs": [
    {
     "name": "stdout",
     "output_type": "stream",
     "text": [
      "\n",
      "--> Anomalies occur at:\n",
      "  timestamp #0: 2013-12-22 20:00:00\n",
      "  timestamp #1: 2014-04-13 09:00:00\n",
      "\n",
      "Original csv file contains (7267,) timestamps.\n",
      "Processed time series contain (7267,) readings.\n",
      "Anomaly indices are [3722, 6181]\n",
      "\n",
      "Training set mean is 72.04114695024849\n",
      "Training set std is 3.323831562717656\n",
      "Anomaly indices in the test set are [ 422 2881]\n",
      "\n",
      "Processed time series are not saved.\n"
     ]
    },
    {
     "data": {
      "image/png": "[encoded data removed]",
      "text/plain": [
       "<Figure size 1296x288 with 1 Axes>"
      ]
     },
     "metadata": {
      "needs_background": "light"
     },
     "output_type": "display_data"
    }
   ],
   "source": [
    "dataset = 'ambient_temp'\n",
    "idx_split = [0,3300]\n",
    "\n",
    "t, readings_normalised = process_and_save_specified_dataset(dataset, idx_split)"
   ]
  },
  {
   "cell_type": "markdown",
   "metadata": {},
   "source": [
    "# MY CODE"
   ]
  },
  {
   "cell_type": "markdown",
   "metadata": {},
   "source": [
    "## interrogating load_data()"
   ]
  },
  {
   "cell_type": "code",
   "execution_count": 5,
   "metadata": {},
   "outputs": [],
   "source": [
    "csv_folder='./NAB-known-anomaly/csv-files/'\n",
    "data_file = os.path.join(csv_folder, 'ambient_temperature_system_failure.csv')\n",
    "anomalies = ['2013-12-22 20:00:00', '2014-04-13 09:00:00']\n",
    "t_unit = 'hour'"
   ]
  },
  {
   "cell_type": "code",
   "execution_count": 6,
   "metadata": {},
   "outputs": [
    {
     "name": "stdout",
     "output_type": "stream",
     "text": [
      "\n",
      "--> Anomalies occur at:\n",
      "  timestamp #0: 2013-12-22 20:00:00\n",
      "  timestamp #1: 2014-04-13 09:00:00\n"
     ]
    }
   ],
   "source": [
    "t = []\n",
    "readings = []\n",
    "idx_anomaly = []\n",
    "i = 0\n",
    "\n",
    "\n",
    "readCSV = csv.reader(open(data_file), delimiter=',')\n",
    "print(\"\\n--> Anomalies occur at:\")\n",
    "for row in readCSV:\n",
    "    if i > 0:\n",
    "        t.append(i)\n",
    "        readings.append(float(row[1]))\n",
    "        for j in range(len(anomalies)):\n",
    "            if row[0] == anomalies[j]:\n",
    "                idx_anomaly.append(i)\n",
    "                print(\"  timestamp #{}: {}\".format(j, row[0]))\n",
    "    i = i + 1"
   ]
  },
  {
   "cell_type": "code",
   "execution_count": 13,
   "metadata": {},
   "outputs": [
    {
     "name": "stdout",
     "output_type": "stream",
     "text": [
      "\n",
      "Original csv file contains (7267,) timestamps.\n",
      "Processed time series contain (7267,) readings.\n",
      "Anomaly indices are [3722, 6181]\n"
     ]
    }
   ],
   "source": [
    "t = np.asarray(t)\n",
    "readings = np.asarray(readings)\n",
    "print(\"\\nOriginal csv file contains {} timestamps.\".format(t.shape))\n",
    "print(\"Processed time series contain {} readings.\".format(readings.shape))\n",
    "print(\"Anomaly indices are {}\".format(idx_anomaly))\n",
    "    \n",
    "# return t, t_unit, readings, idx_anomaly"
   ]
  },
  {
   "cell_type": "code",
   "execution_count": 14,
   "metadata": {},
   "outputs": [
    {
     "data": {
      "text/plain": [
       "array([   1,    2,    3, ..., 7265, 7266, 7267])"
      ]
     },
     "execution_count": 14,
     "metadata": {},
     "output_type": "execute_result"
    }
   ],
   "source": [
    "t"
   ]
  },
  {
   "cell_type": "code",
   "execution_count": null,
   "metadata": {},
   "outputs": [],
   "source": [
    "t = []\n",
    "readings = []\n",
    "idx_anomaly = []\n",
    "i = 0\n",
    "\n",
    "with open(data_file) as csvfile:\n",
    "    readCSV = csv.reader(csvfile, delimiter=',')\n",
    "    print(\"\\n--> Anomalies occur at:\")\n",
    "    for row in readCSV:\n",
    "        if i > 0:\n",
    "            t.append(i)\n",
    "            readings.append(float(row[1]))\n",
    "            for j in range(len(anomalies)):\n",
    "                if row[0] == anomalies[j]:\n",
    "                    idx_anomaly.append(i)\n",
    "                    print(\"  timestamp #{}: {}\".format(j, row[0]))\n",
    "        i = i + 1\n",
    "t = np.asarray(t)\n",
    "readings = np.asarray(readings)\n",
    "print(\"\\nOriginal csv file contains {} timestamps.\".format(t.shape))\n",
    "print(\"Processed time series contain {} readings.\".format(readings.shape))\n",
    "print(\"Anomaly indices are {}\".format(idx_anomaly))\n",
    "    \n",
    "# return t, t_unit, readings, idx_anomaly"
   ]
  },
  {
   "cell_type": "markdown",
   "metadata": {},
   "source": [
    "## interogating process_and_save_specified_dataset()"
   ]
  },
  {
   "cell_type": "code",
   "execution_count": 20,
   "metadata": {},
   "outputs": [
    {
     "name": "stdout",
     "output_type": "stream",
     "text": [
      "\n",
      "--> Anomalies occur at:\n",
      "  timestamp #0: 2013-12-22 20:00:00\n",
      "  timestamp #1: 2014-04-13 09:00:00\n",
      "\n",
      "Original csv file contains (7267,) timestamps.\n",
      "Processed time series contain (7267,) readings.\n",
      "Anomaly indices are [3722, 6181]\n"
     ]
    }
   ],
   "source": [
    "# This function plots a dataset with the train/test split and known anomalies\n",
    "# Relies on helper function load_data()\n",
    "\n",
    "dataset = 'ambient_temp'\n",
    "idx_split = [0,3300]\n",
    "\n",
    "y_scale=5\n",
    "save_file=False\n",
    "\n",
    "\n",
    "t, t_unit, readings, idx_anomaly = load_data(dataset)\n",
    "\n",
    "# split into training and test sets\n",
    "training = readings[idx_split[0]:idx_split[1]]\n",
    "t_train = t[idx_split[0]:idx_split[1]]"
   ]
  },
  {
   "cell_type": "code",
   "execution_count": null,
   "metadata": {},
   "outputs": [],
   "source": [
    "# normalise by training mean and std \n",
    "train_m = np.mean(training)\n",
    "train_std = np.std(training)\n",
    "print(\"\\nTraining set mean is {}\".format(train_m))\n",
    "print(\"Training set std is {}\".format(train_std))\n",
    "readings_normalised = (readings - train_m) / train_std\n",
    "\n",
    "training = readings_normalised[idx_split[0]:idx_split[1]]\n",
    "if idx_split[0] == 0:\n",
    "    test = readings_normalised[idx_split[1]:]\n",
    "    t_test = t[idx_split[1]:] - idx_split[1]\n",
    "    idx_anomaly_test = np.asarray(idx_anomaly) - idx_split[1]\n",
    "else:\n",
    "    test = [readings_normalised[:idx_split[0]], readings_normalised[idx_split[1]:]]\n",
    "    t_test = [t[:idx_split[0]], t[idx_split[1]:] - idx_split[1]]\n",
    "    idx_anomaly_split = np.squeeze(np.argwhere(np.asarray(idx_anomaly)>idx_split[0]))\n",
    "    idx_anomaly_test = [np.asarray(idx_anomaly[:idx_anomaly_split[0]]), \n",
    "                        np.asarray(idx_anomaly[idx_anomaly_split[0]:]) - idx_split[1]]\n",
    "print(\"Anomaly indices in the test set are {}\".format(idx_anomaly_test))\n",
    "\n",
    "if save_file:\n",
    "    save_dir = './datasets/NAB-known-anomaly/'\n",
    "    np.savez(save_dir+dataset+'.npz', t=t, t_unit=t_unit, readings=readings, idx_anomaly=idx_anomaly,\n",
    "                idx_split=idx_split, training=training, test=test, train_m=train_m, train_std=train_std,\n",
    "                t_train=t_train, t_test=t_test, idx_anomaly_test=idx_anomaly_test)\n",
    "    print(\"\\nProcessed time series are saved at {}\".format(save_dir+dataset+'.npz'))\n",
    "else:\n",
    "    print(\"\\nProcessed time series are not saved.\")\n",
    "\n",
    "# plot the whole normalised sequence\n",
    "fig, axs = plt.subplots(1, 1, figsize=(18, 4), edgecolor='k')\n",
    "fig.subplots_adjust(hspace=.4, wspace=.4)\n",
    "# axs = axs.ravel()\n",
    "# for i in range(4):\n",
    "axs.plot(t, readings_normalised)\n",
    "if idx_split[0] == 0:\n",
    "    axs.plot(idx_split[1]*np.ones(20), np.linspace(-y_scale,y_scale,20), 'b--')\n",
    "else:\n",
    "    for i in range(2):\n",
    "        axs.plot(idx_split[i]*np.ones(20), np.linspace(-y_scale,y_scale,20), 'b--')\n",
    "for j in range(len(idx_anomaly)):\n",
    "    axs.plot(idx_anomaly[j]*np.ones(20), np.linspace(-y_scale,y_scale,20), 'r--')\n",
    "#     axs.plot(data[:,1])\n",
    "axs.grid(True)\n",
    "axs.set_xlim(0, len(t))\n",
    "axs.set_ylim(-y_scale, y_scale)\n",
    "axs.set_xlabel(\"timestamp (every {})\".format(t_unit))\n",
    "axs.set_ylabel(\"normalised readings\")\n",
    "axs.set_title(\"{} dataset\\n(normalised by train mean {:.2f} and std {:.2f})\".format(dataset, train_m, train_std))\n",
    "axs.legend(('data', 'train test set split', 'anomalies'))\n",
    "\n",
    "return t, readings_normalised"
   ]
  }
 ],
 "metadata": {
  "kernelspec": {
   "display_name": "Python 3 (ipykernel)",
   "language": "python",
   "name": "python3"
  },
  "language_info": {
   "codemirror_mode": {
    "name": "ipython",
    "version": 3
   },
   "file_extension": ".py",
   "mimetype": "text/x-python",
   "name": "python",
   "nbconvert_exporter": "python",
   "pygments_lexer": "ipython3",
   "version": "3.7.11"
  }
 },
 "nbformat": 4,
 "nbformat_minor": 4
}
